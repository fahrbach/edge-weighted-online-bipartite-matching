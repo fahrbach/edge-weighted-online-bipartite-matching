{
 "cells": [
  {
   "cell_type": "code",
   "execution_count": 1,
   "metadata": {},
   "outputs": [],
   "source": [
    "import numpy as np\n",
    "from pulp import *"
   ]
  },
  {
   "cell_type": "code",
   "execution_count": 29,
   "metadata": {},
   "outputs": [],
   "source": [
    "def dx_ocs(gamma, kmax):\n",
    "    x = np.array([1 - pow(0.5, k)*pow(1-gamma, max(0,k-1)) for k in range(kmax+2)])\n",
    "    return x[1:] - x[:kmax+1]"
   ]
  },
  {
   "cell_type": "code",
   "execution_count": 2,
   "metadata": {},
   "outputs": [],
   "source": [
    "def ratio_lp(gamma, kmax, kappa=1.5):\n",
    "    #dx = dx_ocs(gamma, kmax)\n",
    "    #print('dx:', dx)\n",
    "    \n",
    "    lp = LpProblem('ratio lp', LpMaximize)\n",
    "    \n",
    "    Gamma = LpVariable('Γ', 0.)\n",
    "    lp += Gamma\n",
    "    \n",
    "    a = LpVariable.dict('a', range(kmax+1), 0.)\n",
    "    b = LpVariable.dict('b', range(kmax+1), 0.)\n",
    "    \n",
    "    # gain split in deterministic rounds\n",
    "    for k in range(kmax+1):\n",
    "        #lp += sum([a[i] for i in range(k, kmax+1)]) + kappa*b[k] <= sum(dx[k:])\n",
    "        lp += sum([a[i] for i in range(k, kmax+1)]) + kappa*b[k] <= pow(0.5, k)*pow(1-gamma, max(k-1, 0))\n",
    "    \n",
    "    # gain split in randomized rounds\n",
    "    lp += a[0] + b[0] <= 0.5\n",
    "    for k in range(1, kmax+1):\n",
    "        #lp += a[k] + b[k] <= dx[k]\n",
    "        lp += a[k] + b[k] <= pow(0.5, k+1)*pow(1-gamma, k-1)*(1+gamma)\n",
    "    \n",
    "    # compensation\n",
    "    lp += a[0] >= gamma/2\n",
    "    \n",
    "    # boundary condition\n",
    "    lp += sum([a[i] for i in range(kmax+1)]) >= Gamma\n",
    "    \n",
    "    # approximate dual feasibility: randomized round, not chosen\n",
    "    for k in range(kmax+1):\n",
    "        lp += sum([a[i] for i in range(k)]) + 2*b[k] >= Gamma\n",
    "    \n",
    "    # approximate dual feasibility: randomized round, chosen\n",
    "    for k in range(kmax):\n",
    "        lp += sum([a[i] for i in range(k+1)]) + kappa*b[k] >= Gamma\n",
    "\n",
    "    lp.solve()\n",
    "    \n",
    "    return (value(Gamma),\n",
    "            [value(a[k]) for k in range(kmax+1)],\n",
    "            [value(b[k]) for k in range(kmax+1)])"
   ]
  },
  {
   "cell_type": "code",
   "execution_count": 3,
   "metadata": {},
   "outputs": [
    {
     "name": "stderr",
     "output_type": "stream",
     "text": [
      "/usr/local/lib/python3.7/site-packages/pulp/pulp.py:1114: UserWarning: Spaces are not permitted in the name. Converted to '_'\n",
      "  warnings.warn(\"Spaces are not permitted in the name. Converted to '_'\")\n"
     ]
    }
   ],
   "source": [
    "Gamma, a, b = ratio_lp(1/16, 8)"
   ]
  },
  {
   "cell_type": "code",
   "execution_count": 4,
   "metadata": {},
   "outputs": [
    {
     "data": {
      "text/plain": [
       "0.50503489"
      ]
     },
     "execution_count": 4,
     "metadata": {},
     "output_type": "execute_result"
    }
   ],
   "source": [
    "Gamma"
   ]
  },
  {
   "cell_type": "code",
   "execution_count": 5,
   "metadata": {},
   "outputs": [
    {
     "data": {
      "text/plain": [
       "[0.24748256,\n",
       " 0.13684883,\n",
       " 0.06415997,\n",
       " 0.030093105,\n",
       " 0.014133321,\n",
       " 0.0066657617,\n",
       " 0.0031857269,\n",
       " 0.0015850361,\n",
       " 0.00088057561]"
      ]
     },
     "execution_count": 5,
     "metadata": {},
     "output_type": "execute_result"
    }
   ],
   "source": [
    "a"
   ]
  },
  {
   "cell_type": "code",
   "execution_count": 6,
   "metadata": {},
   "outputs": [
    {
     "data": {
      "text/plain": [
       "[0.25251744,\n",
       " 0.12877617,\n",
       " 0.060351748,\n",
       " 0.028271763,\n",
       " 0.013225211,\n",
       " 0.0061585501,\n",
       " 0.0028256693,\n",
       " 0.0012328059,\n",
       " 0.00044028781]"
      ]
     },
     "execution_count": 6,
     "metadata": {},
     "output_type": "execute_result"
    }
   ],
   "source": [
    "b"
   ]
  },
  {
   "cell_type": "code",
   "execution_count": 9,
   "metadata": {},
   "outputs": [
    {
     "name": "stdout",
     "output_type": "stream",
     "text": [
      "kappa = 1.000000, Gamma = 0.500000\n",
      "kappa = 1.062500, Gamma = 0.505035\n",
      "kappa = 1.125000, Gamma = 0.505035\n",
      "kappa = 1.187500, Gamma = 0.505035\n",
      "kappa = 1.250000, Gamma = 0.505035\n",
      "kappa = 1.312500, Gamma = 0.505035\n",
      "kappa = 1.375000, Gamma = 0.505035\n",
      "kappa = 1.437500, Gamma = 0.505035\n",
      "kappa = 1.500000, Gamma = 0.505035\n",
      "kappa = 1.562500, Gamma = 0.505035\n",
      "kappa = 1.625000, Gamma = 0.505035\n",
      "kappa = 1.687500, Gamma = 0.505035\n",
      "kappa = 1.750000, Gamma = 0.505035\n",
      "kappa = 1.812500, Gamma = 0.505035\n",
      "kappa = 1.875000, Gamma = 0.505035\n",
      "kappa = 1.937500, Gamma = 0.502645\n",
      "kappa = 2.000000, Gamma = 0.500000\n"
     ]
    }
   ],
   "source": [
    "for kappa in np.arange(1.0, 2.0 + 1/16, 1/16):\n",
    "    Gamma, a, b = ratio_lp(1/16, 8, kappa)\n",
    "    print('kappa = %f, Gamma = %f' % (kappa, Gamma))"
   ]
  },
  {
   "cell_type": "code",
   "execution_count": 98,
   "metadata": {},
   "outputs": [],
   "source": [
    "Gamma, a, b = ratio_lp(1/(3*np.sqrt(3)), 8)"
   ]
  },
  {
   "cell_type": "code",
   "execution_count": 99,
   "metadata": {},
   "outputs": [
    {
     "data": {
      "text/plain": [
       "0.51462476"
      ]
     },
     "execution_count": 99,
     "metadata": {},
     "output_type": "execute_result"
    }
   ],
   "source": [
    "Gamma"
   ]
  },
  {
   "cell_type": "code",
   "execution_count": 100,
   "metadata": {},
   "outputs": [
    {
     "data": {
      "text/plain": [
       "[0.24268762,\n",
       " 0.16214395,\n",
       " 0.065473776,\n",
       " 0.026442834,\n",
       " 0.0106862,\n",
       " 0.0043286876,\n",
       " 0.0017686174,\n",
       " 0.00074532606,\n",
       " 0.00034774797]"
      ]
     },
     "execution_count": 100,
     "metadata": {},
     "output_type": "execute_result"
    }
   ],
   "source": [
    "a"
   ]
  },
  {
   "cell_type": "code",
   "execution_count": 101,
   "metadata": {},
   "outputs": [
    {
     "data": {
      "text/plain": [
       "[0.25731238,\n",
       " 0.13596857,\n",
       " 0.054896594,\n",
       " 0.022159706,\n",
       " 0.0089382893,\n",
       " 0.0035951895,\n",
       " 0.0014308457,\n",
       " 0.00054653701,\n",
       " 0.00017387398]"
      ]
     },
     "execution_count": 101,
     "metadata": {},
     "output_type": "execute_result"
    }
   ],
   "source": [
    "b"
   ]
  },
  {
   "cell_type": "code",
   "execution_count": 102,
   "metadata": {},
   "outputs": [
    {
     "data": {
      "text/plain": [
       "0.10992746834288755"
      ]
     },
     "execution_count": 102,
     "metadata": {},
     "output_type": "execute_result"
    }
   ],
   "source": [
    "(13*np.sqrt(13)-35)/108"
   ]
  },
  {
   "cell_type": "code",
   "execution_count": 134,
   "metadata": {},
   "outputs": [],
   "source": [
    "Gamma, a, b = ratio_lp(0.109927, 8)"
   ]
  },
  {
   "cell_type": "code",
   "execution_count": 135,
   "metadata": {},
   "outputs": [
    {
     "data": {
      "text/plain": [
       "0.50867279"
      ]
     },
     "execution_count": 135,
     "metadata": {},
     "output_type": "execute_result"
    }
   ],
   "source": [
    "Gamma"
   ]
  },
  {
   "cell_type": "code",
   "execution_count": 136,
   "metadata": {},
   "outputs": [
    {
     "data": {
      "text/plain": [
       "[0.24566361,\n",
       " 0.14597716,\n",
       " 0.064973493,\n",
       " 0.028928071,\n",
       " 0.01289279,\n",
       " 0.0057658754,\n",
       " 0.0026081951,\n",
       " 0.0012239971,\n",
       " 0.00063960608]"
      ]
     },
     "execution_count": 136,
     "metadata": {},
     "output_type": "execute_result"
    }
   ],
   "source": [
    "a"
   ]
  },
  {
   "cell_type": "code",
   "execution_count": 137,
   "metadata": {},
   "outputs": [
    {
     "data": {
      "text/plain": [
       "[0.25433639,\n",
       " 0.13150459,\n",
       " 0.058516014,\n",
       " 0.026029267,\n",
       " 0.011565232,\n",
       " 0.0051188368,\n",
       " 0.0022358991,\n",
       " 0.00093180161,\n",
       " 0.00031980304]"
      ]
     },
     "execution_count": 137,
     "metadata": {},
     "output_type": "execute_result"
    }
   ],
   "source": [
    "b"
   ]
  },
  {
   "cell_type": "code",
   "execution_count": 14,
   "metadata": {},
   "outputs": [],
   "source": [
    "kmax = 40\n",
    "Gamma, a, b = ratio_lp(1/(3*np.sqrt(3)), kmax)\n",
    "dx = dx_ocs(1/(3*np.sqrt(3)), kmax)"
   ]
  },
  {
   "cell_type": "code",
   "execution_count": 15,
   "metadata": {},
   "outputs": [
    {
     "data": {
      "text/plain": [
       "array([0.48537024, 0.54388926, 0.54388927, 0.54388928, 0.54388928,\n",
       "       0.54388927, 0.54388922, 0.5438891 , 0.54388863, 0.54388692,\n",
       "       0.54388049, 0.54385663, 0.54376802, 0.54343882, 0.54221586,\n",
       "       0.53767256, 0.5207945 , 0.67944492, 1.        , 0.        ,\n",
       "       0.        , 0.        , 0.        , 0.        , 0.        ,\n",
       "       0.        , 2.07695688, 0.        , 0.        , 0.        ,\n",
       "       0.        , 0.        , 0.        , 0.        , 0.        ,\n",
       "       0.        , 0.        , 0.        , 0.        , 0.        ,\n",
       "       0.        ])"
      ]
     },
     "execution_count": 15,
     "metadata": {},
     "output_type": "execute_result"
    }
   ],
   "source": [
    "a / dx"
   ]
  },
  {
   "cell_type": "code",
   "execution_count": 16,
   "metadata": {},
   "outputs": [
    {
     "data": {
      "text/plain": [
       "array([0.51462976, 0.45611073, 0.45611073, 0.45611072, 0.45611073,\n",
       "       0.45611074, 0.45611078, 0.45611089, 0.45611136, 0.45611309,\n",
       "       0.45611951, 0.45614337, 0.45623198, 0.45656119, 0.45778417,\n",
       "       0.46232744, 0.47920552, 0.26957837, 0.        , 0.        ,\n",
       "       0.        , 0.        , 0.        , 0.        , 0.        ,\n",
       "       0.55906352, 0.        , 0.        , 0.        , 0.        ,\n",
       "       1.11804256, 0.        , 0.        , 0.        , 0.        ,\n",
       "       0.        , 0.        , 0.        , 0.        , 0.        ,\n",
       "       0.        ])"
      ]
     },
     "execution_count": 16,
     "metadata": {},
     "output_type": "execute_result"
    }
   ],
   "source": [
    "b / dx"
   ]
  },
  {
   "cell_type": "code",
   "execution_count": 17,
   "metadata": {},
   "outputs": [],
   "source": [
    "Gamma, a, b = ratio_lp(0.10993, 8)"
   ]
  },
  {
   "cell_type": "code",
   "execution_count": 18,
   "metadata": {},
   "outputs": [
    {
     "data": {
      "text/plain": [
       "0.50866813"
      ]
     },
     "execution_count": 18,
     "metadata": {},
     "output_type": "execute_result"
    }
   ],
   "source": [
    "Gamma"
   ]
  },
  {
   "cell_type": "code",
   "execution_count": 36,
   "metadata": {},
   "outputs": [],
   "source": [
    "def unweighted_lp(kmax):\n",
    "    g = np.ones(kmax+2)\n",
    "    for i in range(2,kmax+2):\n",
    "        g[i] = g[i-1] - (13*np.sqrt(13)-35)/108*g[i-2]\n",
    "        #g[i] = g[i-1] - g[i-2]/16\n",
    "    x = np.array([1-2**(-k)*g[k] for k in range(kmax+2)])\n",
    "    print(x)\n",
    "    \n",
    "    lp = LpProblem('ratio lp', LpMaximize)\n",
    "    \n",
    "    Gamma = LpVariable('Γ', 0., 1.)\n",
    "    lp += Gamma\n",
    "    \n",
    "    a = LpVariable.dict('a', range(kmax+1), 0.)\n",
    "    b = LpVariable.dict('b', range(kmax+1), 0.)\n",
    "    \n",
    "    for k in range(kmax+1):\n",
    "        lp += a[k] + b[k] <= x[k+1] - x[k]\n",
    "        lp += sum([a[i] for i in range(k)]) + 2*b[k] >= Gamma\n",
    "        if k < kmax:\n",
    "            lp += b[k] >= b[k+1]\n",
    "    lp += sum([a[i] for i in range(kmax+1)]) >= Gamma\n",
    "\n",
    "    lp.solve()\n",
    "    \n",
    "    return (value(Gamma),\n",
    "            [value(a[k]) for k in range(kmax+1)],\n",
    "            [value(b[k]) for k in range(kmax+1)])"
   ]
  },
  {
   "cell_type": "code",
   "execution_count": 38,
   "metadata": {},
   "outputs": [
    {
     "name": "stdout",
     "output_type": "stream",
     "text": [
      "[0.         0.5        0.77748187 0.90248187 0.95735615 0.98135805\n",
      " 0.99185096 0.9964378  0.99844285 0.99931932]\n"
     ]
    },
    {
     "data": {
      "text/plain": [
       "(0.50898643,\n",
       " [0.24550678,\n",
       "  0.14574204,\n",
       "  0.066131198,\n",
       "  0.029071078,\n",
       "  0.012734243,\n",
       "  0.0055923636,\n",
       "  0.0024824754,\n",
       "  0.0011419306,\n",
       "  0.00058431452],\n",
       " [0.25449322,\n",
       "  0.13173982,\n",
       "  0.058868802,\n",
       "  0.025803202,\n",
       "  0.011267664,\n",
       "  0.0049005421,\n",
       "  0.0021043603,\n",
       "  0.00086312257,\n",
       "  0.00029215726])"
      ]
     },
     "execution_count": 38,
     "metadata": {},
     "output_type": "execute_result"
    }
   ],
   "source": [
    "unweighted_lp(8)"
   ]
  },
  {
   "cell_type": "code",
   "execution_count": 40,
   "metadata": {},
   "outputs": [
    {
     "name": "stdout",
     "output_type": "stream",
     "text": [
      "[1.         1.         0.89007253 0.78014506 0.68230164 0.59654227\n",
      " 0.52153858 0.4559622  0.39863078 0.34850801]\n"
     ]
    }
   ],
   "source": [
    "g = np.ones(10)\n",
    "for i in range(2,10):\n",
    "    g[i] = g[i-1] - (13*np.sqrt(13)-35)/108*g[i-2]\n",
    "print(g)"
   ]
  },
  {
   "cell_type": "code",
   "execution_count": null,
   "metadata": {},
   "outputs": [],
   "source": []
  }
 ],
 "metadata": {
  "kernelspec": {
   "display_name": "Python 3",
   "language": "python",
   "name": "python3"
  },
  "language_info": {
   "codemirror_mode": {
    "name": "ipython",
    "version": 3
   },
   "file_extension": ".py",
   "mimetype": "text/x-python",
   "name": "python",
   "nbconvert_exporter": "python",
   "pygments_lexer": "ipython3",
   "version": "3.7.3"
  }
 },
 "nbformat": 4,
 "nbformat_minor": 2
}
